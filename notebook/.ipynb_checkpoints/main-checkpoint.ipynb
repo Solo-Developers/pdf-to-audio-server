{
 "cells": [
  {
   "cell_type": "code",
   "execution_count": 3,
   "id": "b506dd6b-68f7-4416-9a72-861c8d0a14b9",
   "metadata": {},
   "outputs": [],
   "source": [
    "import pymupdf\n",
    "\n",
    "doc = pymupdf.open(\"assets/sample.pdf\") # open a document"
   ]
  },
  {
   "cell_type": "code",
   "execution_count": 5,
   "id": "abb76a33-c39a-4ae0-ad12-0382ac654ccf",
   "metadata": {},
   "outputs": [
    {
     "ename": "SyntaxError",
     "evalue": "unterminated string literal (detected at line 3) (3029391399.py, line 3)",
     "output_type": "error",
     "traceback": [
      "\u001b[1;36m  Cell \u001b[1;32mIn[5], line 3\u001b[1;36m\u001b[0m\n\u001b[1;33m    print(text.replace('\\',''))\u001b[0m\n\u001b[1;37m                            ^\u001b[0m\n\u001b[1;31mSyntaxError\u001b[0m\u001b[1;31m:\u001b[0m unterminated string literal (detected at line 3)\n"
     ]
    }
   ],
   "source": [
    "for page in doc: # iterate the document pages\n",
    "    text = page.get_text().encode(\"utf8\")\n",
    "    text.replace('\\','')\n",
    "\n"
   ]
  },
  {
   "cell_type": "code",
   "execution_count": null,
   "id": "69b2721e-348a-45f8-8128-0c4e4aa71108",
   "metadata": {},
   "outputs": [],
   "source": []
  }
 ],
 "metadata": {
  "kernelspec": {
   "display_name": "Python 3 (ipykernel)",
   "language": "python",
   "name": "python3"
  },
  "language_info": {
   "codemirror_mode": {
    "name": "ipython",
    "version": 3
   },
   "file_extension": ".py",
   "mimetype": "text/x-python",
   "name": "python",
   "nbconvert_exporter": "python",
   "pygments_lexer": "ipython3",
   "version": "3.11.4"
  }
 },
 "nbformat": 4,
 "nbformat_minor": 5
}
