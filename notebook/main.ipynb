{
 "cells": [
  {
   "cell_type": "code",
   "execution_count": 1,
   "id": "b506dd6b-68f7-4416-9a72-861c8d0a14b9",
   "metadata": {},
   "outputs": [],
   "source": [
    "import pymupdf\n",
    "# out = open(\"assets/output.txt\", \"wb\") # create a text output\n",
    "doc = pymupdf.open(\"assets/sample.pdf\") # open a document\n",
    "\n",
    "\n"
   ]
  },
  {
   "cell_type": "code",
   "execution_count": 2,
   "id": "2295d036",
   "metadata": {},
   "outputs": [],
   "source": [
    "import pyttsx3\n",
    "\n",
    "engine=pyttsx3.init()\n",
    "\n",
    "engine.setProperty('rate',150)\n",
    "engine.setProperty('volume', 1)    "
   ]
  },
  {
   "cell_type": "code",
   "execution_count": 3,
   "id": "abb76a33-c39a-4ae0-ad12-0382ac654ccf",
   "metadata": {},
   "outputs": [],
   "source": [
    "\n",
    "text=\"\"\n",
    "for page in doc: # iterate the document pages\n",
    "    text+=page.get_text()\n",
    "\n",
    "\n",
    "engine.save_to_file(text, 'assets/output.mp3')\n",
    "engine.runAndWait()\n",
    "\n",
    "\n",
    "\n",
    "\n"
   ]
  },
  {
   "cell_type": "markdown",
   "id": "5f3db0d0",
   "metadata": {},
   "source": []
  },
  {
   "cell_type": "code",
   "execution_count": 4,
   "id": "69b2721e-348a-45f8-8128-0c4e4aa71108",
   "metadata": {},
   "outputs": [
    {
     "name": "stdout",
     "output_type": "stream",
     "text": [
      "ID: HKEY_LOCAL_MACHINE\\SOFTWARE\\Microsoft\\Speech\\Voices\\Tokens\\TTS_MS_EN-US_DAVID_11.0, Name: Microsoft David Desktop - English (United States), Lang: []\n",
      "ID: HKEY_LOCAL_MACHINE\\SOFTWARE\\Microsoft\\Speech\\Voices\\Tokens\\TTS_MS_EN-US_ZIRA_11.0, Name: Microsoft Zira Desktop - English (United States), Lang: []\n"
     ]
    }
   ],
   "source": [
    "import pyttsx3\n",
    "\n",
    "def list_voices():\n",
    "    engine = pyttsx3.init()\n",
    "    voices = engine.getProperty('voices')\n",
    "    \n",
    "    for voice in voices:\n",
    "        print(f\"ID: {voice.id}, Name: {voice.name}, Lang: {voice.languages}\")\n",
    "\n",
    "list_voices()\n"
   ]
  }
 ],
 "metadata": {
  "kernelspec": {
   "display_name": "Python 3 (ipykernel)",
   "language": "python",
   "name": "python3"
  },
  "language_info": {
   "codemirror_mode": {
    "name": "ipython",
    "version": 3
   },
   "file_extension": ".py",
   "mimetype": "text/x-python",
   "name": "python",
   "nbconvert_exporter": "python",
   "pygments_lexer": "ipython3",
   "version": "3.11.4"
  }
 },
 "nbformat": 4,
 "nbformat_minor": 5
}
